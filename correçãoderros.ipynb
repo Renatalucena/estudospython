{
  "nbformat": 4,
  "nbformat_minor": 0,
  "metadata": {
    "colab": {
      "name": "correçãoderros.ipynb",
      "provenance": [],
      "authorship_tag": "ABX9TyP99Npm3SCbuyuLHs0yBX14",
      "include_colab_link": true
    },
    "kernelspec": {
      "name": "python3",
      "display_name": "Python 3"
    },
    "language_info": {
      "name": "python"
    }
  },
  "cells": [
    {
      "cell_type": "markdown",
      "metadata": {
        "id": "view-in-github",
        "colab_type": "text"
      },
      "source": [
        "<a href=\"https://colab.research.google.com/github/Renatalucena/estudospython/blob/main/corre%C3%A7%C3%A3oderros.ipynb\" target=\"_parent\"><img src=\"https://colab.research.google.com/assets/colab-badge.svg\" alt=\"Open In Colab\"/></a>"
      ]
    },
    {
      "cell_type": "code",
      "execution_count": null,
      "metadata": {
        "colab": {
          "base_uri": "https://localhost:8080/"
        },
        "id": "6R7PEZjQCdvt",
        "outputId": "0d118524-3e27-4c51-d583-c1dd497b881a"
      },
      "outputs": [
        {
          "output_type": "stream",
          "name": "stdout",
          "text": [
            "Cadastro\n",
            "=========================\n"
          ]
        }
      ],
      "source": [
        "\n",
        "print('Cadastro')\n",
        "print('='*25)\n",
        "try:\n",
        "  nome = str (input('digite seu nome completo:  '))\n",
        "  nasc = int(input('digite o ano de seu nascimento:  ') )\n",
        "  idade = 2022 - nasc\n",
        "except (ValueError, TypeError):\n",
        "  print('por favor, digite apenas números')\n",
        "  \n",
        "  \n",
        "else:\n",
        "  print(f'Olá, ', nome, f' sua idade é:{idade} anos')\n",
        "  \n",
        "  "
      ]
    }
  ]
}