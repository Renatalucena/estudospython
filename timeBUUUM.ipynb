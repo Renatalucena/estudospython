{
  "nbformat": 4,
  "nbformat_minor": 0,
  "metadata": {
    "colab": {
      "name": "timeBUUUM.ipynb",
      "provenance": [],
      "authorship_tag": "ABX9TyP25xkO9fIiKyh1GiaMuhSa",
      "include_colab_link": true
    },
    "kernelspec": {
      "name": "python3",
      "display_name": "Python 3"
    },
    "language_info": {
      "name": "python"
    }
  },
  "cells": [
    {
      "cell_type": "markdown",
      "metadata": {
        "id": "view-in-github",
        "colab_type": "text"
      },
      "source": [
        "<a href=\"https://colab.research.google.com/github/Renatalucena/estudospython/blob/main/timeBUUUM.ipynb\" target=\"_parent\"><img src=\"https://colab.research.google.com/assets/colab-badge.svg\" alt=\"Open In Colab\"/></a>"
      ]
    },
    {
      "cell_type": "code",
      "execution_count": null,
      "metadata": {
        "id": "d7-oM_hVILEt"
      },
      "outputs": [],
      "source": [
        "from time import sleep\n",
        "print('iniciando contagem regressiva')\n",
        "for i in range(5,-1,-1):\n",
        "  print(i)\n",
        "  sleep(1)\n",
        "print(' BUUUUUUUUM  ')"
      ]
    }
  ]
}