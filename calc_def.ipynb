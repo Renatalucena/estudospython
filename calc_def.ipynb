{
  "nbformat": 4,
  "nbformat_minor": 0,
  "metadata": {
    "colab": {
      "name": "calc_def.ipynb",
      "provenance": [],
      "authorship_tag": "ABX9TyMa+8ZvRfvcW3aQWye9qXaG",
      "include_colab_link": true
    },
    "kernelspec": {
      "name": "python3",
      "display_name": "Python 3"
    },
    "language_info": {
      "name": "python"
    }
  },
  "cells": [
    {
      "cell_type": "markdown",
      "metadata": {
        "id": "view-in-github",
        "colab_type": "text"
      },
      "source": [
        "<a href=\"https://colab.research.google.com/github/Renatalucena/estudospython/blob/main/calc_def.ipynb\" target=\"_parent\"><img src=\"https://colab.research.google.com/assets/colab-badge.svg\" alt=\"Open In Colab\"/></a>"
      ]
    },
    {
      "cell_type": "code",
      "execution_count": 2,
      "metadata": {
        "colab": {
          "base_uri": "https://localhost:8080/"
        },
        "id": "BRqTImdiMcNn",
        "outputId": "864d2f98-691a-4b7b-915a-5ce06bc015d0"
      },
      "outputs": [
        {
          "output_type": "stream",
          "name": "stdout",
          "text": [
            "====================\n",
            "o resutado é : 5!\n",
            "o resutado é : 15!\n",
            "o resutado é : 0  !\n",
            "o resutado é :2.0 !\n",
            "o resutado é :53 !\n",
            "o resutado é : 0  !\n",
            "====================\n"
          ]
        }
      ],
      "source": [
        "def calc(num1, num2, op):\n",
        "  if (op == 1):\n",
        "    res = num1 + num2\n",
        "  elif (op == 2):\n",
        "    res = num1 - num2\n",
        "  elif (op == 3):\n",
        "    res = num1 * num2\n",
        "  elif(op == 4) and (num1 !=0):\n",
        "    res = num1/ num2\n",
        "  else:\n",
        "    res = ' 0 '\n",
        "      \n",
        "  return res\n",
        "\n",
        "\n",
        "print('=' *20)\n",
        "res = calc(11,6,2)\n",
        "print(f'o resutado é : {res}!')\n",
        "res = calc(5,3,3)\n",
        "print(f'o resutado é : {res}!')\n",
        "res = calc(3,5,0)\n",
        "print(f'o resutado é :{res} !')\n",
        "res = calc(10, 5, 4)\n",
        "print(f'o resutado é :{res} !')\n",
        "res = calc(46,7,1)\n",
        "print(f'o resutado é :{res} !')\n",
        "res = calc(23,5,5)\n",
        "print(f'o resutado é :{res} !')\n",
        "print('=' *20)"
      ]
    }
  ]
}