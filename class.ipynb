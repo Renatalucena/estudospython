{
  "nbformat": 4,
  "nbformat_minor": 0,
  "metadata": {
    "colab": {
      "name": "Untitled12.ipynb",
      "provenance": [],
      "authorship_tag": "ABX9TyORfFdGbDpCvBV8mae1rWUc",
      "include_colab_link": true
    },
    "kernelspec": {
      "name": "python3",
      "display_name": "Python 3"
    },
    "language_info": {
      "name": "python"
    }
  },
  "cells": [
    {
      "cell_type": "markdown",
      "metadata": {
        "id": "view-in-github",
        "colab_type": "text"
      },
      "source": [
        "<a href=\"https://colab.research.google.com/github/Renatalucena/estudospython/blob/main/class.ipynb\" target=\"_parent\"><img src=\"https://colab.research.google.com/assets/colab-badge.svg\" alt=\"Open In Colab\"/></a>"
      ]
    },
    {
      "cell_type": "code",
      "execution_count": null,
      "metadata": {
        "id": "JNaAo0G21l7P"
      },
      "outputs": [],
      "source": [
        "from datetime import date\n",
        "class Curso:\n",
        "   def __init__(self, nome, funcao ):    \n",
        "      self.nome = nome\n",
        "      self.funcao = funcao\n",
        "\n",
        "   def registro(self):\n",
        "      n=0\n",
        "      n+=1\n",
        "      print('-'*30,'\\n REGISTRO DO DIA:', date.today())\n",
        "      print('SERVIDOR:', self.nome, '\\nFUNÇÃO:', self.funcao, '\\n',n , 'registro de presença \\n','*' *30)\n",
        "      \n",
        "brinquedistas = Curso('Luna Lucena', 'coordenadora')\n",
        "print(' '*2,'>curso de brinquedistas<')\n",
        "brinquedistas.registro()\n",
        "\n",
        "contacao_histórias = Curso('Luna Lucena', 'coordenadora')\n",
        "print('>curso de contação de histórias<')\n",
        "contacao_histórias .registro()\n",
        "\n",
        "formacao_continuada = Curso('Luna Lucena', 'coordenadora')\n",
        "print(' '*3,'>FORMAÇÃO CONTINUADA<')\n",
        "formacao_continuada .registro()\n",
        "    "
      ]
    }
  ]
}