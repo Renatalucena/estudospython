{
  "nbformat": 4,
  "nbformat_minor": 0,
  "metadata": {
    "colab": {
      "name": "Untitled3.ipynb",
      "provenance": [],
      "authorship_tag": "ABX9TyPPYJC9JIpggTOIYMZv8MSs",
      "include_colab_link": true
    },
    "kernelspec": {
      "name": "python3",
      "display_name": "Python 3"
    },
    "language_info": {
      "name": "python"
    }
  },
  "cells": [
    {
      "cell_type": "markdown",
      "metadata": {
        "id": "view-in-github",
        "colab_type": "text"
      },
      "source": [
        "<a href=\"https://colab.research.google.com/github/Renatalucena/estudospython/blob/main/calculadora.ipynb\" target=\"_parent\"><img src=\"https://colab.research.google.com/assets/colab-badge.svg\" alt=\"Open In Colab\"/></a>"
      ]
    },
    {
      "cell_type": "code",
      "execution_count": null,
      "metadata": {
        "id": "FiQR_PBJqDmf"
      },
      "outputs": [],
      "source": [
        "def calc(a, b, op):\n",
        "  if (op == 1):\n",
        "    res = a + b\n",
        "  elif (op == 2):\n",
        "    res = a - b\n",
        "  elif (op == 3):\n",
        "    res = a * b\n",
        "  elif(op == 4):\n",
        "    res = a/ b\n",
        "  else:\n",
        "    res = 0    \n",
        "  return res\n",
        "\n",
        "\n",
        "def opcoes():\n",
        "  print('Escolha a operação você deseja realizar:')\n",
        "  print('_____'*8)\n",
        "  print('digite 1 para adição')\n",
        "  print('digite 2 para subtração')\n",
        "  print('digite 3 para multiplicação')\n",
        "  print('digite 4 para divisão')\n",
        "  print('_____' *8 )\n",
        "  \n",
        "\n",
        "n = 1\n",
        "while n != 0 or (op==0 and op>4):\n",
        "  print('operações matemática!')\n",
        "  opcoes()\n",
        "  op = int (input(f' start '))\n",
        "  if op<= 4 and op >=1:\n",
        "    print('ok, vamos para o próximo passo')\n",
        "  else:\n",
        "    print('opção inválida, por favor, dgite um dos nº solicitados. \\n')\n",
        "    opcoes()\n",
        "    op = int (input(f' start '))\n",
        "  a = int (input(' primeiro numero:  '))\n",
        "  b = int (input('insira o segundo número:  '))\n",
        "  calc(a, b, op)\n",
        "  print(f'o resultado é {calc(a, b, op)}')\n",
        "\n",
        "  n = int(input('se desejar parar, digite [0], para continuar digite [1]'))\n",
        "print('fim!')"
      ]
    }
  ]
}