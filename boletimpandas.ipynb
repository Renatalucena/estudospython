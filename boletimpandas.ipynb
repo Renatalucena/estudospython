{
  "nbformat": 4,
  "nbformat_minor": 0,
  "metadata": {
    "colab": {
      "name": "boletimpandas.ipynb",
      "provenance": [],
      "collapsed_sections": [],
      "authorship_tag": "ABX9TyNS8C+ve3I48SdiJQzVYFtJ",
      "include_colab_link": true
    },
    "kernelspec": {
      "name": "python3",
      "display_name": "Python 3"
    },
    "language_info": {
      "name": "python"
    }
  },
  "cells": [
    {
      "cell_type": "markdown",
      "metadata": {
        "id": "view-in-github",
        "colab_type": "text"
      },
      "source": [
        "<a href=\"https://colab.research.google.com/github/Renatalucena/estudospython/blob/main/boletimpandas.ipynb\" target=\"_parent\"><img src=\"https://colab.research.google.com/assets/colab-badge.svg\" alt=\"Open In Colab\"/></a>"
      ]
    },
    {
      "cell_type": "code",
      "execution_count": null,
      "metadata": {
        "id": "SSafPqTeC-1Q"
      },
      "outputs": [],
      "source": [
        "import pandas as pd\n",
        "boletim = {'nome':['luan Dionísio', 'Apollo', 'Athena' ],\n",
        "           'nota 1':[9, 10, 8],\n",
        "           'nota 2':[10, 8, 10],\n",
        "           'faltas':[0, 3, 4],\n",
        "          }\n",
        "\n",
        "boletim_df = pd.to_csv(boletim)\n",
        "display(boletim_df)"
      ]
    }
  ]
}