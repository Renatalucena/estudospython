{
  "nbformat": 4,
  "nbformat_minor": 0,
  "metadata": {
    "colab": {
      "name": "registro_vendas.ipynb",
      "provenance": [],
      "authorship_tag": "ABX9TyNozs/V0f+CoW5Yq7VD3R1o",
      "include_colab_link": true
    },
    "kernelspec": {
      "name": "python3",
      "display_name": "Python 3"
    },
    "language_info": {
      "name": "python"
    }
  },
  "cells": [
    {
      "cell_type": "markdown",
      "metadata": {
        "id": "view-in-github",
        "colab_type": "text"
      },
      "source": [
        "<a href=\"https://colab.research.google.com/github/Renatalucena/estudospython/blob/main/registro_vendas.ipynb\" target=\"_parent\"><img src=\"https://colab.research.google.com/assets/colab-badge.svg\" alt=\"Open In Colab\"/></a>"
      ]
    },
    {
      "cell_type": "code",
      "execution_count": 9,
      "metadata": {
        "colab": {
          "base_uri": "https://localhost:8080/"
        },
        "id": "ooKCdPqk1vbR",
        "outputId": "56fbe2cf-9242-4f73-bd4d-1d99dd73c8a1"
      },
      "outputs": [
        {
          "output_type": "stream",
          "name": "stdout",
          "text": [
            "------------------------------ \n",
            " REGISTRO DO DIA: 2022-08-01 \n",
            "vendas: 51 unidades\n",
            "TIPO: notebook \n",
            "MARCA: dell \n",
            "\n",
            "------------------------------ \n",
            " REGISTRO DO DIA: 2022-08-01 \n",
            "vendas: 51 unidades\n",
            "TIPO: desktop \n",
            "MARCA: HP \n",
            "\n",
            "------------------------------ \n",
            " REGISTRO DO DIA: 2022-08-01 \n",
            "vendas: 51 unidades\n",
            "TIPO: macbook \n",
            "MARCA: apple \n",
            "\n"
          ]
        }
      ],
      "source": [
        "from datetime import date\n",
        "class Computador:\n",
        "  def __init__(self, tipo, marca ):    \n",
        "    self.tipo = tipo\n",
        "    self.marca = marca\n",
        "\n",
        "\n",
        "  def vendas(self):\n",
        "    s=50\n",
        "    s +=1\n",
        "    print('-'*30,'\\n REGISTRO DO DIA:', date.today(), '\\nvendas:', s, 'unidades')\n",
        "    print('TIPO:', self.tipo, '\\nMARCA:', self.marca, '\\n')\n",
        "     \n",
        "notebook = Computador('notebook', 'dell')\n",
        "notebook.vendas()\n",
        "\n",
        "desktop = Computador('desktop', 'HP')\n",
        "desktop.vendas()\n",
        "\n",
        "macbook = Computador('macbook', 'apple')\n",
        "macbook.vendas()\n",
        "\n",
        "    "
      ]
    }
  ]
}