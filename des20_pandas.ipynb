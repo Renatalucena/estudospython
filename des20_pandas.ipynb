{
  "nbformat": 4,
  "nbformat_minor": 0,
  "metadata": {
    "colab": {
      "name": "Untitled13.ipynb",
      "provenance": [],
      "authorship_tag": "ABX9TyPDnk11LyBtyQTYeQF/vkCe",
      "include_colab_link": true
    },
    "kernelspec": {
      "name": "python3",
      "display_name": "Python 3"
    },
    "language_info": {
      "name": "python"
    }
  },
  "cells": [
    {
      "cell_type": "markdown",
      "metadata": {
        "id": "view-in-github",
        "colab_type": "text"
      },
      "source": [
        "<a href=\"https://colab.research.google.com/github/Renatalucena/estudospython/blob/main/des20_pandas.ipynb\" target=\"_parent\"><img src=\"https://colab.research.google.com/assets/colab-badge.svg\" alt=\"Open In Colab\"/></a>"
      ]
    },
    {
      "cell_type": "code",
      "execution_count": null,
      "metadata": {
        "id": "BixHNEGN9NYy"
      },
      "outputs": [],
      "source": [
        "import pandas as pd\n",
        "\n",
        "df = pd.read_csv('notas_alunos.csv')\n",
        "\n",
        "media = (df['nota_1'] + df['nota_2']) / 2\n",
        "df ['media'] = media\n",
        "\n",
        "df ['situcao'] = situacao\n",
        "df . loc [ df [ 'media' ] <  7 , 'situacao' ] =  'REPROVADO'\n",
        "df . loc [ df [ 'media' ] >= 7 , 'situacao' ] =  'APROVADO'\n",
        "df . loc [ df [ 'faltas' ] <=  5 , 'situacao' ] =  'APROVADO'\n",
        "df . loc [ df [ 'faltas' ] >  5 , 'situacao' ] =  'REPROVADO'\n",
        "df . to_csv ( 'alunos_situacao.csv')\n",
        "\n",
        "maior_faltas = df['faltas'].max()\n",
        "media_geral = df['media'].sum() / df['media'].count()\n",
        "maior_media= df['media'].max()\n",
        "\n",
        "print(f'\\nMaior número de faltas:', maior_faltas)\n",
        "print(f'Média da turma', media_geral)\n",
        "print(f'A maior média foi:', maior_media)\n"
      ]
    },
    {
      "cell_type": "code",
      "source": [
        ""
      ],
      "metadata": {
        "id": "QJvLP9EnJ8SL"
      },
      "execution_count": null,
      "outputs": []
    }
  ]
}