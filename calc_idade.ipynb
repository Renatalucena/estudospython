{
  "nbformat": 4,
  "nbformat_minor": 0,
  "metadata": {
    "colab": {
      "name": "calc_idade.ipynb",
      "provenance": [],
      "authorship_tag": "ABX9TyPpvaE818aWh6OF/knqDkeN",
      "include_colab_link": true
    },
    "kernelspec": {
      "name": "python3",
      "display_name": "Python 3"
    },
    "language_info": {
      "name": "python"
    }
  },
  "cells": [
    {
      "cell_type": "markdown",
      "metadata": {
        "id": "view-in-github",
        "colab_type": "text"
      },
      "source": [
        "<a href=\"https://colab.research.google.com/github/Renatalucena/estudospython/blob/main/calc_idade.ipynb\" target=\"_parent\"><img src=\"https://colab.research.google.com/assets/colab-badge.svg\" alt=\"Open In Colab\"/></a>"
      ]
    },
    {
      "cell_type": "code",
      "execution_count": null,
      "metadata": {
        "id": "UDeBMiPg7sj2"
      },
      "outputs": [],
      "source": [
        "from datetime import date\n",
        "def cad ():\n",
        "  print('*'*10)\n",
        "  print('Cadastro')\n",
        "  print('*'*10)\n",
        "\n",
        "  \n",
        "def ano(nasc):\n",
        " \n",
        "  if nasc>=1922 and nasc<=2021:\n",
        "    idade = 2022 - nasc\n",
        "    print('\\n')\n",
        "  else:\n",
        "    print('digite n entre 1922- 2021')\n",
        "    nasc = int(input('digite o ano de seu nascimento:  '))\n",
        "    idade = 2022 - nasc\n",
        "  return idade\n",
        "  \n",
        "\n",
        "n=1\n",
        "while n !=0:\n",
        "  try:\n",
        "    cad()\n",
        "    nome = str (input('digite seu nome completo:  '))\n",
        "    nasc = int(input('digite o ano de seu nascimento:  '))\n",
        "    ano(nasc)\n",
        "   \n",
        "  except (ValueError, TypeError):\n",
        "      print('por favor, digite apenas números. ex(1988)')\n",
        "      n=1\n",
        "  else:\n",
        "    print(f'Olá, ', nome, f' sua idade é:', ano(nasc), 'anos \\n')"
      ]
    },
    {
      "cell_type": "code",
      "source": [
        "from datetime import date\n",
        "def cad ():\n",
        "  print('*'*10)\n",
        "  print('Cadastro')\n",
        "  print('*'*10)\n",
        "\n",
        "\n",
        "def ano(nasc):\n",
        " \n",
        "  if nasc>=1922 and nasc<=2021:\n",
        "    idade = date.today().year - nasc\n",
        "    print('\\n')\n",
        "  else:\n",
        "    print('digite n entre 1922- 2021')\n",
        "    nasc = int(input('digite o ano de seu nascimento:  '))\n",
        "    idade = date.today().year - nasc\n",
        "  return idade\n",
        "  \n",
        "\n",
        "\n",
        "n=1\n",
        "while n !=0:\n",
        "  try:\n",
        "    cad()\n",
        "    nome = str (input('digite seu nome completo:  '))\n",
        "    nasc = int(input('digite o ano de seu nascimento:  '))\n",
        "    if nasc>=1922 and nasc<=2021:\n",
        "      print('\\n')\n",
        "    else:\n",
        "      print('digite n entre 1922- 2021')\n",
        "      nasc = int(input('digite o ano de seu nascimento:  '))\n",
        "\n",
        "    idade = date.today().year - nasc\n",
        "  except (ValueError, TypeError):\n",
        "      print('por favor, no campo ano de nascimeno, digite apenas números')\n",
        "      n=1\n",
        "  else:\n",
        "    print(f'Olá, ', nome, f' sua idade é:{idade} anos \\n')"
      ],
      "metadata": {
        "id": "SjscNpfeUQyN"
      },
      "execution_count": null,
      "outputs": []
    },
    {
      "cell_type": "code",
      "source": [
        ""
      ],
      "metadata": {
        "id": "4NKEjFcWBAJe"
      },
      "execution_count": null,
      "outputs": []
    }
  ]
}