{
  "nbformat": 4,
  "nbformat_minor": 0,
  "metadata": {
    "colab": {
      "name": "registros_com_class.ipynb",
      "provenance": [],
      "authorship_tag": "ABX9TyMZghp+w2nwKBkKMouYWTbg",
      "include_colab_link": true
    },
    "kernelspec": {
      "name": "python3",
      "display_name": "Python 3"
    },
    "language_info": {
      "name": "python"
    }
  },
  "cells": [
    {
      "cell_type": "markdown",
      "metadata": {
        "id": "view-in-github",
        "colab_type": "text"
      },
      "source": [
        "<a href=\"https://colab.research.google.com/github/Renatalucena/estudospython/blob/main/registros_com_class.ipynb\" target=\"_parent\"><img src=\"https://colab.research.google.com/assets/colab-badge.svg\" alt=\"Open In Colab\"/></a>"
      ]
    },
    {
      "cell_type": "code",
      "execution_count": 45,
      "metadata": {
        "colab": {
          "base_uri": "https://localhost:8080/"
        },
        "id": "b_8ke2zkQirN",
        "outputId": "46c5a2b4-e935-4dc2-8598-01b68b790708"
      },
      "outputs": [
        {
          "output_type": "stream",
          "name": "stdout",
          "text": [
            "   >curso de brinquedistas<\n",
            "------------------------------ \n",
            " REGISTRO DO DIA: 2022-07-30\n",
            "SERVIDOR: Luna Lucena \n",
            "FUNÇÃO: coordenadora \n",
            " 1 registro de presença \n",
            " ******************************\n",
            ">curso de contação de histórias<\n",
            "------------------------------ \n",
            " REGISTRO DO DIA: 2022-07-30\n",
            "SERVIDOR: Luna Lucena \n",
            "FUNÇÃO: coordenadora \n",
            " 1 registro de presença \n",
            " ******************************\n",
            "    >FORMAÇÃO CONTINUADA<\n",
            "------------------------------ \n",
            " REGISTRO DO DIA: 2022-07-30\n",
            "SERVIDOR: Luna Lucena \n",
            "FUNÇÃO: coordenadora \n",
            " 1 registro de presença \n",
            " ******************************\n"
          ]
        }
      ],
      "source": [
        "from datetime import date\n",
        "class Curso:\n",
        "   def __init__(self, nome, funcao ):    \n",
        "      self.nome = nome\n",
        "      self.funcao = funcao\n",
        "\n",
        "   def registro(self):\n",
        "      n=0\n",
        "      n+=1\n",
        "      print('-'*30,'\\n REGISTRO DO DIA:', date.today())\n",
        "      print('SERVIDOR:', self.nome, '\\nFUNÇÃO:', self.funcao, '\\n',n , 'registro de presença \\n','*' *30)\n",
        "      \n",
        "brinquedistas = Curso('Luna Lucena', 'coordenadora')\n",
        "print(' '*2,'>curso de brinquedistas<')\n",
        "brinquedistas.registro()\n",
        "\n",
        "contacao_histórias = Curso('Luna Lucena', 'coordenadora')\n",
        "print('>curso de contação de histórias<')\n",
        "contacao_histórias .registro()\n",
        "\n",
        "formacao_continuada = Curso('Luna Lucena', 'coordenadora')\n",
        "print(' '*3,'>FORMAÇÃO CONTINUADA<')\n",
        "formacao_continuada .registro()\n",
        "    \n",
        "    \n",
        "\n",
        "\n"
      ]
    }
  ]
}