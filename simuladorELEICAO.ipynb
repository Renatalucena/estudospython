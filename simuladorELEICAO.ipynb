{
  "nbformat": 4,
  "nbformat_minor": 0,
  "metadata": {
    "colab": {
      "name": "simuladorELEICAO.ipynb",
      "provenance": [],
      "authorship_tag": "ABX9TyM4t6RcxuAsx7T7vPRV5RZG",
      "include_colab_link": true
    },
    "kernelspec": {
      "name": "python3",
      "display_name": "Python 3"
    },
    "language_info": {
      "name": "python"
    }
  },
  "cells": [
    {
      "cell_type": "markdown",
      "metadata": {
        "id": "view-in-github",
        "colab_type": "text"
      },
      "source": [
        "<a href=\"https://colab.research.google.com/github/Renatalucena/estudospython/blob/main/simuladorELEICAO.ipynb\" target=\"_parent\"><img src=\"https://colab.research.google.com/assets/colab-badge.svg\" alt=\"Open In Colab\"/></a>"
      ]
    },
    {
      "cell_type": "code",
      "execution_count": 12,
      "metadata": {
        "colab": {
          "base_uri": "https://localhost:8080/"
        },
        "id": "aAG9SO2Ax-6i",
        "outputId": "1d8dabdd-d703-4e62-ed23-aa8f0658fed0"
      },
      "outputs": [
        {
          "output_type": "stream",
          "name": "stdout",
          "text": [
            "INÍCIO DA VOTAÇÃO \n",
            "\n",
            "digite o número do seu cadidato0\n",
            "digite[0] para FINALIZAR ou [1] para continuar1\n",
            "__________________________________________________\n",
            "INÍCIO DA VOTAÇÃO \n",
            "\n",
            "digite o número do seu cadidatoj\n",
            "você deve digitar apenas numeros, tente outra vez!\n",
            "digite o número do seu cadidato9\n",
            "digite[0] para FINALIZAR ou [1] para continuar0\n",
            "__________________________________________________\n",
            "\n",
            " >>>APURAÇÃO DOS VOTOS<<< \n",
            "\n",
            "votos brancos e nulos tiveram maior porcentagem\n",
            "* * * * * * * * * * * * * * * * * * * *   \n",
            " TOTAL DE VOTOS x: 0  \n",
            " TOTAL DE VOTOS y: 0 \n",
            " TOTAL DE VOTOS z: 0  \n",
            " TOTAL DE VOTOS brancos e nulos: 1 \n",
            "  * * * * * * * * * * * * * * * * * * * *\n"
          ]
        }
      ],
      "source": [
        "import enum\n",
        "class eleicao(enum.Enum):\n",
        "  x =  889\n",
        "  y =  847\n",
        "  z = 515\n",
        "  branco = 0\n",
        "\n",
        "x = 0\n",
        "y = 0\n",
        "z = 0\n",
        "branco = 0\n",
        "\n",
        "n = 1\n",
        "while True and n != 0:\n",
        "\n",
        "      try:\n",
        "        print('INÍCIO DA VOTAÇÃO \\n')\n",
        "        voto = int(input(f'digite o número do seu cadidato'  ))\n",
        "        if voto == 889:\n",
        "          x += 1\n",
        "        elif voto == 847:\n",
        "          y += 1\n",
        "        elif voto == 515:\n",
        "          z += 1\n",
        "        else:\n",
        "          branco += 1\n",
        "      except(ValueError, TypeError):\n",
        "          print('você deve digitar apenas numeros, tente outra vez!')\n",
        "          voto = int(input(f'digite o número do seu cadidato'))\n",
        "\n",
        "      n = int(input('digite[0] para FINALIZAR ou [1] para continuar'))\n",
        "      print('_' *50)\n",
        "      if n == 0:\n",
        "        print('\\n >>>APURAÇÃO DOS VOTOS<<< \\n')\n",
        "        if x > y and x> z:\n",
        "          eleito = eleicao.x\n",
        "          print('CANDIDATO ELEITO>>>', eleito.name)\n",
        "        elif y > x and y > z:\n",
        "           eleito = eleicao.y\n",
        "           print('CANDIDATO ELEITO>>>', eleito.name)\n",
        "        elif z > x and z > y:\n",
        "           eleito = eleicao.z\n",
        "           print('CANDIDATO ELEITO>>', eleito.name)\n",
        "        else:\n",
        "          print('votos brancos e nulos tiveram maior porcentagem')\n",
        "        print('* ' * 20, ' \\n TOTAL DE VOTOS x:', x, ' \\n TOTAL DE VOTOS y:', y, '\\n TOTAL DE VOTOS z:', z, ' \\n TOTAL DE VOTOS brancos e nulos:',branco,'\\n', ' *'*20) \n",
        "   \n",
        "\n"
      ]
    }
  ]
}