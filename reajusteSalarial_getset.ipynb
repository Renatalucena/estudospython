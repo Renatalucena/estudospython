{
  "nbformat": 4,
  "nbformat_minor": 0,
  "metadata": {
    "colab": {
      "name": "Untitled12.ipynb",
      "provenance": [],
      "authorship_tag": "ABX9TyM4IQt0Bz5ZLWZjpWG5Ay1G",
      "include_colab_link": true
    },
    "kernelspec": {
      "name": "python3",
      "display_name": "Python 3"
    },
    "language_info": {
      "name": "python"
    }
  },
  "cells": [
    {
      "cell_type": "markdown",
      "metadata": {
        "id": "view-in-github",
        "colab_type": "text"
      },
      "source": [
        "<a href=\"https://colab.research.google.com/github/Renatalucena/estudospython/blob/main/reajusteSalarial_getset.ipynb\" target=\"_parent\"><img src=\"https://colab.research.google.com/assets/colab-badge.svg\" alt=\"Open In Colab\"/></a>"
      ]
    },
    {
      "cell_type": "code",
      "execution_count": null,
      "metadata": {
        "id": "JNaAo0G21l7P"
      },
      "outputs": [],
      "source": [
        "from datetime import date\n",
        "class Salario:\n",
        "  def __init__(self, nome, provento, matricula ): \n",
        "    self.nome = nome\n",
        "    self._provento = provento\n",
        "    self.matricula = matricula\n",
        "\n",
        "  def get_nome(self):\n",
        "    return self.nome\n",
        "\n",
        "  def get_matricula(self):\n",
        "    return self.matricula \n",
        "    \n",
        "  def get_provento(self):\n",
        "    return self._provento\n",
        "    \n",
        "  def set_matricula(self, true):\n",
        "    if self.matricula >= 1:\n",
        "      print(true)\n",
        "\n",
        "  def set_provento(self, v):\n",
        "    self._provento = v\n",
        "\n",
        "     \n",
        "funcionario = Salario('Luna Lucena', '2000', '98776')\n",
        "funcionario.get_nome()\n",
        "funcionario.get_provento()\n",
        "funcionario.get_matricula()\n",
        "print('colaborador:', funcionario.get_nome(),'\\nNº de matrícula:', funcionario.get_matricula(), '\\nseu salario inicial:', funcionario.get_provento())\n",
        "s = float(input('informe o seu saláriO ATUAL:'))\n",
        "if s >= 2000:\n",
        "  reajuste = s + (s * 20/100)\n",
        "else:\n",
        "  reajuste = s + (s * 5/100)\n",
        "funcionario.set_provento(reajuste)\n",
        "print('Em', date.today().year, 'seu salário é:', funcionario.get_provento())"
      ]
    }
  ]
}