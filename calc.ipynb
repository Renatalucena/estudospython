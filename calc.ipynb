{
  "nbformat": 4,
  "nbformat_minor": 0,
  "metadata": {
    "colab": {
      "name": "calc.ipynb",
      "provenance": [],
      "authorship_tag": "ABX9TyPniVM/bkhfNYJhug/MCd8z",
      "include_colab_link": true
    },
    "kernelspec": {
      "name": "python3",
      "display_name": "Python 3"
    },
    "language_info": {
      "name": "python"
    }
  },
  "cells": [
    {
      "cell_type": "markdown",
      "metadata": {
        "id": "view-in-github",
        "colab_type": "text"
      },
      "source": [
        "<a href=\"https://colab.research.google.com/github/Renatalucena/estudospython/blob/main/calc.ipynb\" target=\"_parent\"><img src=\"https://colab.research.google.com/assets/colab-badge.svg\" alt=\"Open In Colab\"/></a>"
      ]
    },
    {
      "cell_type": "code",
      "execution_count": 37,
      "metadata": {
        "colab": {
          "base_uri": "https://localhost:8080/"
        },
        "id": "ywiyatS2NOR3",
        "outputId": "245ff4f5-d404-4388-f1d1-b47442c4db6e"
      },
      "outputs": [
        {
          "output_type": "stream",
          "name": "stdout",
          "text": [
            "Escolha a operação você deseja realizar:\n",
            "________________________________________\n",
            "digite 1 para adição\n",
            "digite 2 para subtração\n",
            "digite 3 para multiplicação\n",
            "digite 4 para divisão\n",
            "________________________________________\n",
            " start 0\n",
            "opção inválida\n"
          ]
        }
      ],
      "source": [
        "def calc(a, b, op):\n",
        "  if (op == 1):\n",
        "    res = a + b\n",
        "  elif (op == 2):\n",
        "    res = a - b\n",
        "  elif (op == 3):\n",
        "    res = a * b\n",
        "  elif(op == 4):\n",
        "    res = a/ b\n",
        "  else:\n",
        "    res = 0    \n",
        "  return res\n",
        "\n",
        "\n",
        "\n",
        "\n",
        "n = 1\n",
        "while n != 0:\n",
        "  print('Escolha a operação você deseja realizar:')\n",
        "  print('_____'*8)\n",
        "  print(f'digite 1 para adição')\n",
        "  print(f'digite 2 para subtração')\n",
        "  print(f'digite 3 para multiplicação')\n",
        "  print(f'digite 4 para divisão')\n",
        "  print('_____'*8)\n",
        "  op = int (input(f' start '))\n",
        "  if op > 4 :\n",
        "    print('opcão inválida')\n",
        "  else:\n",
        "    op == 0\n",
        "    print('opção inválida')\n",
        "    break    \n",
        "  a = int (input(' primeiro numero:  '))\n",
        "  b = int (input('insira o segundo número:  '))\n",
        "  calc(a, b, op)\n",
        "  print(f'o resultado é {calc(a, b, op)}')\n",
        "  n = int(input('se desejar parar, digite [0] para continuar digite [1]'))"
      ]
    }
  ]
}